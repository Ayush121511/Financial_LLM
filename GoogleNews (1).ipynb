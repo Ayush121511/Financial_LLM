{
  "nbformat": 4,
  "nbformat_minor": 0,
  "metadata": {
    "colab": {
      "provenance": []
    },
    "kernelspec": {
      "name": "python3",
      "display_name": "Python 3"
    },
    "language_info": {
      "name": "python"
    }
  },
  "cells": [
    {
      "cell_type": "markdown",
      "source": [
        "BBC"
      ],
      "metadata": {
        "id": "M_LuNxDN8jU3"
      }
    },
    {
      "cell_type": "code",
      "execution_count": null,
      "metadata": {
        "id": "4qDTQd99vwSM"
      },
      "outputs": [],
      "source": [
        "import requests\n",
        "from bs4 import BeautifulSoup\n",
        "from nltk.tokenize.treebank import TreebankWordDetokenizer\n",
        "from nltk.tokenize import word_tokenize\n",
        "from nltk.corpus import stopwords\n",
        "import string\n",
        "\n",
        "def scrape_bbc_text(url):\n",
        "  try:\n",
        "    response = requests.get(url)\n",
        "    response.raise_for_status()\n",
        "\n",
        "    soup = BeautifulSoup(response.content, 'lxml')\n",
        "\n",
        "    paragraphs = soup.find_all('p')\n",
        "\n",
        "    text_content = \"\"\n",
        "    for paragraph in paragraphs:\n",
        "      text_content += paragraph.get_text(strip=True) + \"\\n\"\n",
        "\n",
        "    return text_content\n",
        "  except requests.exceptions.RequestException as e:\n",
        "    print(f\"An error occurred: {e}\")\n",
        "    return None\n",
        "\n",
        "# scrape_bbc_text(\"https://www.bbc.com/news/world\")"
      ]
    },
    {
      "cell_type": "code",
      "source": [
        "import requests\n",
        "from bs4 import BeautifulSoup\n",
        "\n",
        "def title_bbc(url):\n",
        "\n",
        "  # Send a GET request to the URL\n",
        "  response = requests.get(url)\n",
        "\n",
        "  # Parse the HTML content using Beautiful Soup\n",
        "  soup = BeautifulSoup(response.content, 'html.parser')\n",
        "\n",
        "  # Find the <title> tag\n",
        "  title_tag = soup.find('title')\n",
        "\n",
        "  # Extract the value from the <title> tag\n",
        "  if title_tag:\n",
        "      title_value = title_tag.text\n",
        "      return(title_value)\n",
        "  else:\n",
        "      return(\"Title value not found.\")\n"
      ],
      "metadata": {
        "id": "Ger2_0oSyGcy"
      },
      "execution_count": null,
      "outputs": []
    },
    {
      "cell_type": "code",
      "source": [
        "import random\n",
        "from datetime import datetime, timedelta\n",
        "\n",
        "def r_date(url):\n",
        "    # Assigning and average date as dates are not stored in the parasing data fetched from the html of the url\n",
        "    start_datetime = datetime.strptime('2024-04-01', '%Y-%m-%d')\n",
        "    end_datetime = datetime.strptime('2024-04-08', '%Y-%m-%d')\n",
        "\n",
        "    # Calculate the range of days between start_date and end_date\n",
        "    delta_days = (end_datetime - start_datetime).days\n",
        "\n",
        "    # Generate a random number of days within the range\n",
        "    random_days = random.randint(0, delta_days)\n",
        "\n",
        "    # Add the random number of days to start_date\n",
        "    random_date = start_datetime + timedelta(days=random_days)\n",
        "\n",
        "    return random_date.strftime('%Y-%m-%d')"
      ],
      "metadata": {
        "id": "8UAIV9COrd0a"
      },
      "execution_count": null,
      "outputs": []
    },
    {
      "cell_type": "markdown",
      "source": [
        "Times of India"
      ],
      "metadata": {
        "id": "V1Bjs17b1-0f"
      }
    },
    {
      "cell_type": "code",
      "source": [
        "import requests\n",
        "from bs4 import BeautifulSoup\n",
        "\n",
        "# URL of the Times of India page you want to scrape\n",
        "url = 'https://timesofindia.indiatimes.com/business/india-business/elon-musk-defers-visit-to-india-congress-says-writing-on-the-wall/articleshow/109465540.cms/'\n",
        "\n",
        "def scrape_toi_text(url):\n",
        "  # Send a GET request to the URL\n",
        "  response = requests.get(url)\n",
        "\n",
        "  # Check if the request was successful (status code 200)\n",
        "  if response.status_code == 200:\n",
        "      # Parse the HTML content of the page using BeautifulSoup\n",
        "      soup = BeautifulSoup(response.content, 'html.parser')\n",
        "\n",
        "      # Find and extract all text content from the page\n",
        "      all_text = ' '.join([element.get_text() for element in soup.find_all(['p', 'h1', 'h2', 'h3', 'h4', 'h5', 'h6', 'span', 'a'])])\n",
        "\n",
        "      # Print or save the extracted text\n",
        "      return(all_text)\n",
        "  else:\n",
        "      return('Failed to retrieve the webpage.')\n"
      ],
      "metadata": {
        "id": "34Z8RxDd1-fl"
      },
      "execution_count": null,
      "outputs": []
    },
    {
      "cell_type": "code",
      "source": [
        "import requests\n",
        "from bs4 import BeautifulSoup\n",
        "\n",
        "# URL of the Times of India page you want to scrape\n",
        "url = 'https://timesofindia.indiatimes.com/business/india-business/elon-musk-defers-visit-to-india-congress-says-writing-on-the-wall/articleshow/109465540.cms'\n",
        "\n",
        "def title_toi(url):\n",
        "  # Send a GET request to the URL\n",
        "  response = requests.get(url)\n",
        "\n",
        "  # Check if the request was successful (status code 200)\n",
        "  if response.status_code == 200:\n",
        "      # Parse the HTML content of the page using BeautifulSoup\n",
        "      soup = BeautifulSoup(response.content, 'html.parser')\n",
        "\n",
        "      # Find and extract the title of the page\n",
        "      title_tag = soup.find('title')\n",
        "      if title_tag:\n",
        "          page_title = title_tag.get_text()\n",
        "          return(page_title)\n",
        "      else:\n",
        "          return(\"Title not found on the page.\")\n",
        "  else:\n",
        "      return('Failed to retrieve the webpage.')\n"
      ],
      "metadata": {
        "id": "-3X3G2cE2aNM"
      },
      "execution_count": null,
      "outputs": []
    },
    {
      "cell_type": "code",
      "source": [
        "import requests\n",
        "from bs4 import BeautifulSoup\n",
        "\n",
        "# URL of the Times of India page you want to scrape\n",
        "url = 'https://timesofindia.indiatimes.com/business/india-business/our-policies-aim-to-attract-manufacturers-to-india-fm-nirmala-sitharaman/articleshow/109465438.cms'\n",
        "\n",
        "def toi_date(url):\n",
        "  # Send a GET request to the URL\n",
        "  response = requests.get(url)\n",
        "\n",
        "  # Check if the request was successful (status code 200)\n",
        "  if response.status_code == 200:\n",
        "      # Parse the HTML content of the page using BeautifulSoup\n",
        "      soup = BeautifulSoup(response.content, 'html.parser')\n",
        "\n",
        "      # Find the div element with class \"xf8Pm byline\"\n",
        "      byline_div = soup.find('div', class_='xf8Pm byline')\n",
        "\n",
        "      # Extract the text content within the div\n",
        "      if byline_div:\n",
        "          byline_text = byline_div.get_text().strip()\n",
        "          byline_list = byline_text.split()\n",
        "          print(byline_list[-5:-2])\n",
        "          if (byline_list[-5] == 'Apr'):\n",
        "            x = '2024-04-'+ byline_list[-4][0:-1]\n",
        "            datetime = datetime.strptime(x, '%Y-%m-%d')\n",
        "            return(datetime)\n",
        "          else:\n",
        "            return(r_date(url))\n",
        "\n",
        "      else:\n",
        "          print('Byline element not found on the page.')\n",
        "          return(r_date(url))\n",
        "  else:\n",
        "      print('Failed to retrieve the webpage.')\n",
        "      return(r_date(url))\n"
      ],
      "metadata": {
        "id": "FKOeofhc2mIc"
      },
      "execution_count": null,
      "outputs": []
    },
    {
      "cell_type": "markdown",
      "source": [
        "CNBC"
      ],
      "metadata": {
        "id": "EyqcEkOJ4vNa"
      }
    },
    {
      "cell_type": "markdown",
      "source": [],
      "metadata": {
        "id": "siXc1ezH8h51"
      }
    },
    {
      "cell_type": "code",
      "source": [
        "import requests\n",
        "from bs4 import BeautifulSoup\n",
        "from nltk.tokenize.treebank import TreebankWordDetokenizer\n",
        "from nltk.tokenize import word_tokenize\n",
        "from nltk.corpus import stopwords\n",
        "import string\n",
        "\n",
        "def scrape_cnbc_text(url):\n",
        "  try:\n",
        "    response = requests.get(url)\n",
        "    response.raise_for_status()\n",
        "\n",
        "    soup = BeautifulSoup(response.content, 'lxml')\n",
        "\n",
        "    paragraphs = soup.find_all('p')\n",
        "\n",
        "    text_content = \"\"\n",
        "    for paragraph in paragraphs:\n",
        "      text_content += paragraph.get_text(strip=True) + \"\\n\"\n",
        "\n",
        "    return text_content\n",
        "  except requests.exceptions.RequestException as e:\n",
        "    print(f\"An error occurred: {e}\")\n",
        "    return None\n",
        "\n",
        "scrape_cnbc_text(\"https://www.cnbc.com/2024/04/20/couple-abandoned-british-columbia-house.html\")\n"
      ],
      "metadata": {
        "id": "uLtBWnSQ45vW",
        "colab": {
          "base_uri": "https://localhost:8080/",
          "height": 166
        },
        "outputId": "80594795-197b-46d2-b5b7-172302dbaa57"
      },
      "execution_count": null,
      "outputs": [
        {
          "output_type": "execute_result",
          "data": {
            "text/plain": [
              "'\\nRelated Stories\\nIn October 2023, Nick Volkov came across a unique listing for a house and just knew he had to show it to his girlfriend,Jenna Phipps, a 28-year-old content creator.\\nThough the listing included pictures of the exterior only and described the house as a \"tear-down,\" the 27-year-old program manager tells CNBC Make It that what stood out the most about the property in Vancouver, British Columbia, Canada, was that it was undervalued, had a water view, and wasn\\'t a standard modern house.\\nPhipps says she fell in love with the property and knew they had to go see it immediately, but \"when we finally got to see the house [in person], we saw it was a lot worse.\"\\n\"There was a reason they didn\\'t show photos of the inside,\" she says.\\nThe property in question is a 2,757-square-foot single-family home built in 1961. It has three bedrooms, 2.5 bathrooms, a pool, and 0.30 acres of land.\\nThe house was so dilapidated that the realtor had the couple sign a waiver before entering.\\n\"You can really see this property had not been cared for at all,\" Volkov says. \"Once you got inside, there was a really musky smell with the old furniture and old things there.\"\\nStill, they were able to find some beauty in the space: \"The architecture showed through all of that. You could see what it was in its former days,\" Volkov says. \"Even with it half falling apart, it was still really pretty.\"\\nOne of the most significant issues the couple encountered immediately was that the roof needed to be replaced. Other issues included completely overgrown landscaping, mold throughout, and high levels of moisture from all the water that had come into the house over the years.\\nDespite all the flaws, Phipps knew she and Volkov had found their forever home.\\n\"I think the biggest thing that stood out to me was the architecture of the home because mid-century modern homes are so rare for the area,\" she said. \"We looked past how bad it was because we knew that we could really transform it ourselves. This house has so much potential and we felt very special to be the people to see that.\"\\nThe couple decided to make an offer.\\nThe house was valued at $3.4 million CAD or $2.5 million USD with an asking price of $2.6 million CAD or $1.9 million USD.\\nBecause of the property\\'s condition, Volkov and Phipps could not get a traditional mortgage and had to opt for a private two-year loan instead.\\nThe couple met with the seller and shared their plans to restore the home instead of tearing it down. The seller then agreed to their bid of $2.1 million CAD or $1,525,923 USD.\\nThe median list price of homes in Vancouver, BC, overall was $1,578,540 in March 2024, according toHouseful, a subsidiary of the Royal Bank of Canada.\\nThe couple split the 20% down payment evenly.\\n\"People were very shocked at how we were able to get that price, especially in that area,\" Phipps says. \"We kind of bought the worst thing in a great neighborhood.\"\\nPhipps and Volkov agree that, for them, landing in their desired neighborhood means they got a pretty good deal.\\nThe couple plans to use the two years they have to repay their private loan to fix up the house as much as possible and then refinance to get a traditional mortgage.\\nWhen the two took possession of the home, it had been empty for four years, the couple said. A family built it in the 1960s, and then it was passed down to two siblings, a son and a daughter. The son, an architect, lived in the home for many years, and then, when he passed away, the house went to his sister, who then sold it to Phipps and Volkov.\\nBecause the seller lived several hours away, she would rarely visit, which is why the property was so deteriorated, the couple says.\\n\"It was in a state that probably no one should have lived there,\" Phipps says. \"She would come to visit and take things out, but no one lived there for years.\"\\nThe couple closed in January 2024 and started the clearing-out process immediately. The first step was to put tarps all over the roof to ensure no more water or moisture entered the house.\\n\"It was a very eventful first weekend of just trying to maintain what the house looked liked and not letting it get worse,\" Phipps says.\\nWhile cleaning out the home, they found some of the original furniture, old photos of what the house looked like before, and a record player that was hooked up to speakers all over the house. Volkov found that discovery pretty exciting.\\n\"Imagine having a house back in the day and you could play music everywhere in it from a record player,\" he says. \"The record player was still there when we bought the house, so that was really cool.\"\\nThere was a lot of mold and potentially hazardous areas in the house, that the couple tackled themselves. The two bought full-face gas masks and got to work. It was also a way for them to save money.\\nAfter several months of cleaning, the two enlisted their parents\\' help to get it down to the studs. Now, the couple is working with an engineer to get a new roof on before winter starts this year and has shifted to clearing out the house\\'s grounds.\\n\"The property was very overgrown, and unfortunately, a lot of the greenery will have to be taken out,\" Phipps says.\\nThe couple plans to keep as much of the house\\'s original design as possible. They are still in the process of getting the permits they need to start construction.\\nVolkov and Phipps plan to keep the mid-century modern look and feel for the exterior with modern appliances and features throughout the house inside.\\nTo date, the couple estimates they have invested $10,000 CAD and hopes to keep the full renovation under $300,000 CAD.\\n\"Over the next two years, we\\'re putting everything we have into the home and living the frugal lifestyle,\" Phipps says.\\nThey plan to do much of the work themselves and will split the costs, with Volkov paying off the private loan and Phipps paying for all the renovation expenses.\\n\"We decided to do that to keep the flow going and help keep costs down,\" Volkov says. \"The really fun part of it all is that you get to witness every stage of the construction.\"\\nConversions to USD were done on April 19, 2024, using OANDA conversion rates of 1 CAD to 0.73 USD. All amounts are rounded to the nearest dollar.\\nWant to make extra money outside of your day job?Sign up forCNBC\\'s new online course How to Earn Passive Income Onlineto learn about common passive income streams, tips to get started and real-life success stories. Register today and save 50% with discount code EARLYBIRD.\\nPlus,sign up for CNBC Make It\\'s newsletterto get tips and tricks for success at work, with money and in life.\\nGet Make It newsletters delivered to your inbox\\nLearn more about the world of CNBC Make It\\n©2024CNBC LLC. All Rights Reserved. A Division of NBC Universal\\n'"
            ],
            "application/vnd.google.colaboratory.intrinsic+json": {
              "type": "string"
            }
          },
          "metadata": {},
          "execution_count": 16
        }
      ]
    },
    {
      "cell_type": "code",
      "source": [
        "scrape_cnbc_text(\"https://www.cnbc.com/2024/04/18/millennial-works-works-3-jobs-to-pay-off-her-student-loans-in-houston.html\")"
      ],
      "metadata": {
        "colab": {
          "base_uri": "https://localhost:8080/",
          "height": 130
        },
        "id": "ZsgNes89eCmH",
        "outputId": "aa237e3a-8804-444b-a86c-4c79c4f12b90"
      },
      "execution_count": null,
      "outputs": [
        {
          "output_type": "execute_result",
          "data": {
            "text/plain": [
              "'\\nRelated Stories\\nThis story is part of CNBC Make It\\'sMillennial Moneyseries, which details how people around the world earn, spend and save their money.\\nShonnita Leslie always had a passion for education. But by the time she earned her bachelor\\'s degree in sociology and master\\'s of education in psychology with a concentration in school counseling in 2009, her student loan debt had ballooned to around $101,000 and she was struggling to make payments.\\n\"Because I graduated during the Great Recession, it was really hard for me to get on my feet and find my first stable job working full-time to make enough to even pay the minimum,\" she tells CNBC Make It.\\nLeslie was eventually able to find work as a certified school counselor at a public school in Connecticut, where she\\'s from, earning enough to make her minimum student loan payments.\\nHowever, she wanted to be able to pay off her debt more quickly. She ended up moving to Houston, Texas, where she earns $65,000 between her full-time role as a program manager at a university, and part-time work as a DoorDash driver and freelance writer.\\n\"I was welcomed with open arms here in Houston,\" she says. \"I absolutely love it here.\"\\nHere\\'s how she balances multiple jobs while continuing to pay down her student loans.\\nGrowing up in Connecticut, Leslie was surrounded by family members who were educators, which influenced her to pursue a career in the field.\\nHowever, she didn\\'t factor in how much she would be able to earn working in education, compared with the student loan debt she would need to take on in order to gain the proper credentials, she says.\\n\"I was always following my passion instead of really thinking logically about the career field versus the income,\" she says. \"Education is one of those few fields where you need a high level of education versus the amount of money that you will be compensated for.\"\\nAlthough Leslie has been chipping away at her student loan debt for about 15 years, she says it\\'s been worth it in order to pursue her passion.\\n\"This is the work that I love,\" she says. \"I love giving people information that I didn\\'t have.\"\\nAt the end of the 2017 school year, Leslie\\'s district underwent massive layoffs and her school ended up closing, prompting her to move to Houston. She had family in Texas and knew the cost of living would be cheaper than in Connecticut.\\nShe initially landed a job at a charter school. A year later, she was offered a job as a program manager at a university, which she still holds today. She continued repaying her student loans, but her payments only went toward the accumulated interest. Despite making consistent payments, her principal balance remained at $101,000.\\nLuckily, Leslie\\'s years as a school counselor had set her on track to qualify forPublic Service Loan Forgiveness, and continuing to work in public education put her even closer every year.\\nIn 2022, she finally had $60,000 in federal loans forgiven through the PSLF program. \"I was completely relieved,\" she says.\\nHowever, since Leslie had private student loans that didn\\'t qualify for forgiveness, she still had a balance of around $40,000, so she decided to pick up a part-time job as a DoorDash delivery driver.\\n\"I just wasn\\'t making enough money to make a dent in my debt and I knew I could do it a lot quicker if I had something like DoorDash to help compensate my full-time earnings,\" she says.\\nOver the course of five years, from 2018 to 2023, Leslie earned around $72,000 total working part-time as a DoorDash delivery driver.\\nShe initially bought a certified preowned car to make deliveries, but it came with even more debt. Leslie used her early DoorDash earnings to eliminate her car loan, then began throwing the rest at her remaining student loan balance.\\nThe amount she earns each year depends on how many hours she worked. When she began in 2018, she earned around $6,324. By the next year, she had more than doubled her earnings to nearly $18,000.\\nLeslie usually makes deliveries after work on weekdays, and enjoys being able to use the flexible hours to her advantage. At one point, she was working an average of 30 hours a week through DoorDash in addition to her full-time job. Currently, she only spends about five hours a week on the side hustle.\\nDON\\'T MISS:The ultimate guide to earning passive income online\\nBut Leslie\\'s hard work has paid off. As of 2024, she has whittled down her remaining balance to around $18,000.\\n\"It was really important that I got a lot of my student loan debt taken care of because then I was able to dedicate that back into myself and my health and my mental wellness,\" she says.\\nBy 2023, Leslie\\'s car was experiencing significant mechanical issues. One night, it almost caused her to be stranded while making a delivery.\\nLeslie decided to sell it and use the money to buy an electric bike, which she now uses to get to work and make deliveries.\\n\"I intentionally did not decide to buy a new car,\" she says. \"I had pretty much covered a lot of my debt that I wanted to pay off anyways, so it was a really great time to just kind of move on and not have a car.\"\\nPlus, she says not having a car saves her money due to not needing to pay for parking, car insurance and other related expenses.\\n\"Getting around Houston has been actually pretty easy,\" she says. \"When I\\'m going to the grocery store, for example, I can put all my groceries in my saddlebags and that kind of takes care of everything. It\\'s also really great to use the metro rail line.\"\\nHere\\'s how Leslie spent her money in February 2024.\\nLeslie uses the zero-sum budgeting strategy to manage her money, which means she assigns every dollar of her paycheck toward her various expenses.\\n\"I allocate every single dollar until it hits zero so that I understand where every expense came from,\" she says.\\nShe makes sure to factor splurges into her budget as well, such as buying workout clothing from GymShark.\\n\"Even if you\\'re still paying off debt, you still have to have some level of a lifestyle,\" she says. \"I do enjoy making sure that I have proper workout clothes and like to make sure I\\'m looking presentable.\"\\nOne financial tool Leslie doesn\\'t use is credit cards. Although when used responsibly, credit cards can help you build up your credit score and earn perks like travel rewards, she wants to avoid taking on any more debt while she focuses on paying down her student loans.\\n\"I could always get into more debt if I want more debt,\" she says. \"In the meantime, my focus [is on] the debt that I currently have.\"\\nLeslie has around $1,000 in savings, which she says is enough to cover any unexpected expense that may arise. \"I haven\\'t really needed to build a larger emergency fund yet because my liabilities are so low at the moment and I have insurance,\" she says.\\nShe also has around $96,000 saved for retirement between her 403(b) plan and Roth IRA.\\nAlthough Leslie says her student loan debt is at a more manageable level, she plans to continue working part-time as a DoorDash delivery driver for now.\\n\"I don\\'t have to do it,\" she says. \"I like having the appeal of having multiple streams of income.\"\\nShe also started her own small business,Noir in Color, where she offers her freelance writing services on topics like personal finance and side hustle ideas.\\nShe knows she\\'ll eventually want to own a home that she could rent out. However, she says she prefers renting for now because it\\'s cheaper. After she pays down her student loans, she plans to work on boosting her credit to qualify for the best terms on a mortgage.\\n\"I felt it was also essential that I continue to rent for right now until I\\'m able to feel comfortable enough to want to take on a large amount of debt all over again,\" she says.\\nUltimately, Leslie looks forward to one day clearing her debt and spending her time as she pleases.\\n\"My version of the American dream is just to be debt-free and live life on my own terms,\" she says.\\nWhat\\'s your budget breakdown?Share your story with usfor a chance to be featured in a future installment.\\nWant to make extra money outside of your day job?Sign up for CNBC\\'s new online courseHow to Earn Passive Income Onlineto learn about common passive income streams, tips to get started and real-life success stories. Register today and save 50% with discount code EARLYBIRD.\\nPlus,sign up for CNBC Make It\\'s newsletterto get tips and tricks for success at work, with money and in life.\\nGet Make It newsletters delivered to your inbox\\nLearn more about the world of CNBC Make It\\n©2024CNBC LLC. All Rights Reserved. A Division of NBC Universal\\n'"
            ],
            "application/vnd.google.colaboratory.intrinsic+json": {
              "type": "string"
            }
          },
          "metadata": {},
          "execution_count": 2
        }
      ]
    },
    {
      "cell_type": "code",
      "source": [
        "import requests\n",
        "from bs4 import BeautifulSoup\n",
        "from datetime import datetime, timedelta\n",
        "\n",
        "# Define the CNBC link\n",
        "url = 'https://www.cnbc.com/2024/04/20/couple-abandoned-british-columbia-house.html'\n",
        "\n",
        "def cnbc_date(url):\n",
        "  # Send a GET request to the URL\n",
        "  response = requests.get(url)\n",
        "\n",
        "  # Check if the request was successful\n",
        "  if response.status_code == 200:\n",
        "      # Parse the HTML content of the page\n",
        "      soup = BeautifulSoup(response.content, 'html.parser')\n",
        "\n",
        "      # Find the <time> element with the specified attributes\n",
        "      time_element = soup.find('time', {'data-testid': 'published-timestamp', 'itemprop': 'datePublished'})\n",
        "\n",
        "      # Extract the content of the <time> element and split into words\n",
        "      if time_element:\n",
        "          words_list = time_element.text.strip().split()\n",
        "          print(words_list[-5:-2])\n",
        "          if (words_list[-5] == 'Apr'):\n",
        "            x = '2024-04-'+ words_list[-4]\n",
        "            da = datetime.strptime(x, '%Y-%m-%d')\n",
        "            print(da)\n",
        "            return(da)\n",
        "      else:\n",
        "          print('Time element not found.')\n",
        "          return r_date(url)\n",
        "  else:\n",
        "      print('Failed to retrieve the page:', response.status_code)\n",
        "      return r_date(url)"
      ],
      "metadata": {
        "id": "w-ZkIYyu7cDt"
      },
      "execution_count": null,
      "outputs": []
    },
    {
      "cell_type": "code",
      "source": [
        "import requests\n",
        "from bs4 import BeautifulSoup\n",
        "\n",
        "# Define the CNBC link\n",
        "url = 'https://www.cnbc.com/'\n",
        "\n",
        "def title_cnbc(url):\n",
        "  # Send a GET request to the URL\n",
        "  response = requests.get(url)\n",
        "\n",
        "  # Check if the request was successful\n",
        "  if response.status_code == 200:\n",
        "      # Parse the HTML content of the page\n",
        "      soup = BeautifulSoup(response.content, 'html.parser')\n",
        "\n",
        "      # Find the title element\n",
        "      title_element = soup.find('title')\n",
        "\n",
        "      # Extract and print the title of the page\n",
        "      if title_element:\n",
        "          return(title_element.text.strip())\n",
        "      else:\n",
        "          return('Title element not found.')\n",
        "  else:\n",
        "      return('Failed to retrieve the page:', response.status_code)\n"
      ],
      "metadata": {
        "id": "IB-_7nAH8Y3f"
      },
      "execution_count": null,
      "outputs": []
    },
    {
      "cell_type": "markdown",
      "source": [
        "livemint"
      ],
      "metadata": {
        "id": "pKV8wXLS8rsu"
      }
    },
    {
      "cell_type": "code",
      "source": [
        "import requests\n",
        "from bs4 import BeautifulSoup\n",
        "\n",
        "def scrape_mint_text(url):\n",
        "  try:\n",
        "    response = requests.get(url)\n",
        "    response.raise_for_status()\n",
        "\n",
        "    soup = BeautifulSoup(response.content, 'lxml')\n",
        "\n",
        "    paragraphs = soup.find_all('p')\n",
        "\n",
        "    text_content = \"\"\n",
        "    for paragraph in paragraphs:\n",
        "      text_content += paragraph.get_text(strip=True) + \"\\n\"\n",
        "\n",
        "    return text_content\n",
        "  except requests.exceptions.RequestException as e:\n",
        "    print(f\"An error occurred: {e}\")\n",
        "    return None\n",
        "url = 'https://www.livemint.com/sports/cricket-news/sachin-tendulkar-reacts-as-his-earlier-prediction-about-dc-vs-srh-goes-horribly-wrong-what-is-it-with-sunrisers-11713668271109.html'\n",
        "# scrape_mint_text(url)\n"
      ],
      "metadata": {
        "id": "tJ7frFJV8sPS"
      },
      "execution_count": null,
      "outputs": []
    },
    {
      "cell_type": "code",
      "source": [
        "import requests\n",
        "from bs4 import BeautifulSoup\n",
        "\n",
        "url = 'https://www.livemint.com/sports/cricket-news/sachin-tendulkar-reacts-as-his-earlier-prediction-about-dc-vs-srh-goes-horribly-wrong-what-is-it-with-sunrisers-11713668271109.html'\n",
        "\n",
        "def title_mint(url):\n",
        "  # Send a GET request to the URL\n",
        "  response = requests.get(url)\n",
        "\n",
        "  # Check if the request was successful\n",
        "  if response.status_code == 200:\n",
        "      # Parse the HTML content of the page\n",
        "      soup = BeautifulSoup(response.content, 'html.parser')\n",
        "\n",
        "      # Find the title element\n",
        "      title_element = soup.find('title')\n",
        "\n",
        "      # Extract and print the title of the page\n",
        "      if title_element:\n",
        "          return(title_element.text.strip())\n",
        "      else:\n",
        "          return('Title element not found.')\n",
        "  else:\n",
        "      return('Failed to retrieve the page:', response.status_code)\n"
      ],
      "metadata": {
        "id": "ibBNN2aF9hVC"
      },
      "execution_count": null,
      "outputs": []
    },
    {
      "cell_type": "markdown",
      "source": [
        "BuisnessToday.in"
      ],
      "metadata": {
        "id": "jJ4NABrK_D9Z"
      }
    },
    {
      "cell_type": "code",
      "source": [
        "import requests\n",
        "from bs4 import BeautifulSoup\n",
        "\n",
        "def scrape_text(url):\n",
        "  try:\n",
        "    response = requests.get(url)\n",
        "    response.raise_for_status()\n",
        "\n",
        "    soup = BeautifulSoup(response.content, 'lxml')\n",
        "\n",
        "    paragraphs = soup.find_all('p')\n",
        "\n",
        "    text_content = \"\"\n",
        "    for paragraph in paragraphs:\n",
        "      text_content += paragraph.get_text(strip=True) + \"\\n\"\n",
        "\n",
        "    return text_content\n",
        "  except requests.exceptions.RequestException as e:\n",
        "    print(f\"An error occurred: {e}\")\n",
        "    return None\n",
        "url = 'https://www.businesstoday.in/markets/global-markets/story/a-wall-street-giant-is-taking-rival-to-court-for-stealing-trading-secrets-involving-india-426268-2024-04-21'\n",
        "# scrape_text(url)\n"
      ],
      "metadata": {
        "id": "zzyzB-5X_DGZ"
      },
      "execution_count": null,
      "outputs": []
    },
    {
      "cell_type": "code",
      "source": [
        "import requests\n",
        "from bs4 import BeautifulSoup\n",
        "\n",
        "def title(url):\n",
        "  # Send a GET request to the URL\n",
        "  response = requests.get(url)\n",
        "\n",
        "  # Check if the request was successful\n",
        "  if response.status_code == 200:\n",
        "      # Parse the HTML content of the page\n",
        "      soup = BeautifulSoup(response.content, 'html.parser')\n",
        "\n",
        "      # Find the title element\n",
        "      title_element = soup.find('title')\n",
        "\n",
        "      # Extract and print the title of the page\n",
        "      if title_element:\n",
        "          return(title_element.text.strip())\n",
        "      else:\n",
        "          return('Title element not found.')\n",
        "  else:\n",
        "      return('Failed to retrieve the page:', response.status_code)\n",
        "\n",
        "url = 'https://www.businesstoday.in/markets/global-markets/story/a-wall-street-giant-is-taking-rival-to-court-for-stealing-trading-secrets-involving-india-426268-2024-04-21'\n",
        "title(url)\n"
      ],
      "metadata": {
        "colab": {
          "base_uri": "https://localhost:8080/",
          "height": 38
        },
        "id": "geBwr5g__ckB",
        "outputId": "4edebed4-2312-47e8-b685-d3cb04295167"
      },
      "execution_count": null,
      "outputs": [
        {
          "output_type": "execute_result",
          "data": {
            "text/plain": [
              "'A Wall Street giant is taking rival to court for stealing trading secrets involving India - BusinessToday'"
            ],
            "application/vnd.google.colaboratory.intrinsic+json": {
              "type": "string"
            }
          },
          "metadata": {},
          "execution_count": 21
        }
      ]
    },
    {
      "cell_type": "markdown",
      "source": [
        "Finshots"
      ],
      "metadata": {
        "id": "ZymqT2V8_zIH"
      }
    },
    {
      "cell_type": "code",
      "source": [
        "url = \"https://finshots.in/archive/golden-passports-visas-losing-shine/\"\n",
        "# print(scrape_text(url))\n",
        "\n",
        "# print(title(url))"
      ],
      "metadata": {
        "id": "uown9g1L_yfr"
      },
      "execution_count": null,
      "outputs": []
    },
    {
      "cell_type": "markdown",
      "source": [
        "Yahoo finance"
      ],
      "metadata": {
        "id": "kGSuggxwAbhB"
      }
    },
    {
      "cell_type": "code",
      "source": [
        "url = \"https://finance.yahoo.com/news/former-congressman-hot-seat-trump-010000780.html\"\n",
        "# print(scrape_text(url))\n",
        "\n",
        "# print(title(url))"
      ],
      "metadata": {
        "id": "i3VqaTWJAZZN"
      },
      "execution_count": null,
      "outputs": []
    },
    {
      "cell_type": "markdown",
      "source": [
        "The Economist"
      ],
      "metadata": {
        "id": "gPBWyS8UA1eg"
      }
    },
    {
      "cell_type": "code",
      "source": [
        "url = \"https://www.economist.com/international/2024/04/17/would-you-really-die-for-your-country\"\n",
        "\n",
        "# print(scrape_text(url))\n",
        "\n",
        "# print(title(url))"
      ],
      "metadata": {
        "id": "tWe7KtVkA1Kh"
      },
      "execution_count": null,
      "outputs": []
    },
    {
      "cell_type": "code",
      "source": [
        "tickers = {\"MMM\": \"3M Company\",\n",
        "    \"AXP\": \"American Express\",\n",
        "    \"AMGN\": \"Amgen\",\n",
        "    \"AAPL\": \"Apple Inc\",\n",
        "    \"BA\": \"Boeing\",\n",
        "    \"CAT\": \"Caterpillar Inc\",\n",
        "    \"CVX\": \"Chevron\",\n",
        "    \"CSCO\": \"Cisco\",\n",
        "    \"KO\": \"The Coca-Cola Company\",\n",
        "    \"DOW\": \"Dow Inc\",\n",
        "    \"GS\": \"Goldman Sachs\",\n",
        "    \"HD\": \"The Home Depot\",\n",
        "    \"HON\": \"Honeywell\",\n",
        "    \"IBM\": \"IBM\",\n",
        "    \"INTC\": \"Intel\",\n",
        "    \"JNJ\": \"Johnson & Johnson\",\n",
        "    \"JPM\": \"JPMorgan Chase\",\n",
        "    \"MCD\": \"McDonald's Corp\",\n",
        "    \"MRK\": \"Merck & Co. Inc\",\n",
        "    \"MSFT\": \"Microsoft\",\n",
        "    \"NKE\": \"Nike\",\n",
        "    \"PG\": \"Procter & Gamble\",\n",
        "    \"CRM\": \"Salesforce\",\n",
        "    \"TRV\": \"The Travelers Companies Inc\",\n",
        "    \"UNH\": \"UnitedHealth Group Inc\",\n",
        "    \"VZ\": \"Verizon\",\n",
        "    \"V\": \"Visa Inc\",\n",
        "    \"WMT\": \"Walmart\",\n",
        "    \"DIS\": \"Walt Disney\",\n",
        "    \"WBA\": \"Walgreens Boots\"}"
      ],
      "metadata": {
        "id": "AjSTqxkein7F"
      },
      "execution_count": null,
      "outputs": []
    },
    {
      "cell_type": "markdown",
      "source": [
        "Extracting Links"
      ],
      "metadata": {
        "id": "QHapxLqGY7cv"
      }
    },
    {
      "cell_type": "code",
      "source": [
        "import re"
      ],
      "metadata": {
        "id": "km9srGXKjhf9"
      },
      "execution_count": null,
      "outputs": []
    },
    {
      "cell_type": "code",
      "source": [
        "news_providers = [\"bbc.com\",\"timesofindia.indiatimes.com\",\"cnbc.com\",\"livemint.com\",\"businesstoday.in\",\"finshots.in\",\"finance.yahoo.com\",\"economist.com\"]"
      ],
      "metadata": {
        "id": "hkSn51bhjvxh"
      },
      "execution_count": null,
      "outputs": []
    },
    {
      "cell_type": "code",
      "source": [
        "provider_dict = {\"bbc\":(6,\"bbc.com\"),\"toi\":(5,\"timesofindia.indiatimes.com\"),\"cnbc\":(10,\"cnbc.com\"),\"livemint\":(2,\"livemint.com\"),\"yahoo finance\":(7,\"finance.yahoo.com\"),\"finshots\": (2,\"finshots.in\"),\"businesstoday\":(2,\"businesstoday.in\"),\"economist\":(2,\"economist.com\")}"
      ],
      "metadata": {
        "id": "ClDfWcOEnWeI"
      },
      "execution_count": null,
      "outputs": []
    },
    {
      "cell_type": "code",
      "source": [
        "def get_url_content(url):\n",
        "    try:\n",
        "        response = requests.get(url)\n",
        "        # Check if the request was successful (status code 200)\n",
        "        if response.status_code == 200:\n",
        "            return response.text\n",
        "        else:\n",
        "            print(f\"Failed to fetch URL. Status code: {response.status_code}\")\n",
        "            return None\n",
        "    except Exception as e:\n",
        "        print(f\"An error occurred: {str(e)}\")\n",
        "        return None\n",
        "\n",
        "def extract_links(large_string, provider):\n",
        "    pattern = fr'\"(https?://www\\.[^\"]*{provider}[^\"]*)\"'\n",
        "    matches = re.findall(pattern, large_string)\n",
        "    return matches\n",
        "\n",
        "def getLinks(query,time):\n",
        "    all_news_links = []\n",
        "    for provider in provider_dict.keys():\n",
        "      q = query + \" \" + provider\n",
        "      #print(q)\n",
        "      q = '%20'.join(q.split())\n",
        "      url = \"https://news.google.com/search?q=\"+q+\"+when:\"+time+\"d\"\n",
        "      content = get_url_content(url)\n",
        "      text = content\n",
        "      news_links = []\n",
        "      news_links+=extract_links(text,provider_dict[provider][1])\n",
        "      final_links = []\n",
        "      for i in news_links:\n",
        "        if('amp' not in i): #Handling AMP contents - Duplicate content\n",
        "          final_links.append(i)\n",
        "      final_links = list(set(final_links)) #Handled duplicate entries\n",
        "      if(len(final_links)>provider_dict[provider][0]):\n",
        "        final_links = final_links[:provider_dict[provider][0]]\n",
        "      all_news_links.append((final_links,provider))\n",
        "    return (all_news_links)"
      ],
      "metadata": {
        "id": "dWkUiePMjJoX"
      },
      "execution_count": null,
      "outputs": []
    },
    {
      "cell_type": "code",
      "source": [
        "data = []\n",
        "days = 40\n",
        "for i in tickers.keys():\n",
        "  print(i,\"started\")\n",
        "  links = getLinks(tickers[i],str(days))\n",
        "  if(len(links)>20):\n",
        "    links = links[:20]\n",
        "  for url_tuples in links:\n",
        "    prov = url_tuples[1]\n",
        "    prov_links = url_tuples[0]\n",
        "    if(prov == 'bbc'):\n",
        "      for url in prov_links:\n",
        "        content = title_bbc(url)\n",
        "        content += scrape_bbc_text(url)\n",
        "        da = r_date(url)\n",
        "        data.append([content,da,url,i])\n",
        "    elif(prov == 'toi'):\n",
        "      for url in prov_links:\n",
        "        content = title_toi(url)\n",
        "        content += scrape_toi_text(url)\n",
        "        da = toi_date(url)\n",
        "        data.append([content,da,url,i])\n",
        "    elif(prov == 'cnbc'):\n",
        "      for url in prov_links:\n",
        "        content = title_cnbc(url)\n",
        "        content += scrape_cnbc_text(url)\n",
        "        da = cnbc_date(url)\n",
        "        data.append([content,da,url,i])\n",
        "    elif(prov == 'livemint'):\n",
        "      for url in prov_links:\n",
        "        content = title_mint(url)\n",
        "        content = scrape_mint_text(url)\n",
        "        da = r_date(url)\n",
        "        data.append([content,da,url,i])\n",
        "    elif(prov == 'yahoo finance'):\n",
        "      for url in prov_links:\n",
        "        content = title(url)\n",
        "        content += scrape_text(url)\n",
        "        da = r_date(url)\n",
        "        data.append([content,da,url,i])\n",
        "    elif(prov == 'finshots'):\n",
        "      for url in prov_links:\n",
        "        content = title(url)\n",
        "        content += scrape_text(url)\n",
        "        da = r_date(url)\n",
        "        data.append([content,da,url,i])\n",
        "    elif(prov == 'businesstoday'):\n",
        "      for url in prov_links:\n",
        "        content = title(url)\n",
        "        content += scrape_text(url)\n",
        "        da = r_date(url)\n",
        "        data.append([content,da,url,i])\n",
        "    elif(prov == 'economist'):\n",
        "      for url in prov_links:\n",
        "        content = title(url)\n",
        "        content += scrape_text(url)\n",
        "        da = r_date(url)\n",
        "        data.append([content,da,url,i])\n",
        "    else:\n",
        "      print(\"Unrecognised provider\")\n",
        "  print(i,\"finished\")\n"
      ],
      "metadata": {
        "id": "n7dnCzSDY6vH",
        "colab": {
          "base_uri": "https://localhost:8080/"
        },
        "outputId": "34832bb0-bedb-4896-e1e4-a24fd48ffbbe"
      },
      "execution_count": null,
      "outputs": [
        {
          "output_type": "stream",
          "name": "stdout",
          "text": [
            "MMM started\n",
            "['Apr', '17', '20249:09']\n",
            "2024-04-17 00:00:00\n",
            "Time element not found.\n",
            "Time element not found.\n",
            "['Mar', '27', '20242:39']\n",
            "['Apr', '1', '202411:15']\n",
            "2024-04-01 00:00:00\n",
            "Time element not found.\n",
            "['Apr', '1', '20248:18']\n",
            "2024-04-01 00:00:00\n",
            "MMM finished\n",
            "AXP started\n",
            "Time element not found.\n",
            "Time element not found.\n",
            "['Apr', '19', '202411:46']\n",
            "2024-04-19 00:00:00\n",
            "Time element not found.\n",
            "Time element not found.\n",
            "Time element not found.\n",
            "Time element not found.\n",
            "Time element not found.\n",
            "['Apr', '19', '202411:03']\n",
            "2024-04-19 00:00:00\n",
            "Time element not found.\n",
            "AXP finished\n",
            "AMGN started\n",
            "Time element not found.\n",
            "['Mar', '19', '20243:48']\n",
            "['Mar', '25', '20247:21']\n",
            "['Mar', '24', '20248:00']\n",
            "AMGN finished\n",
            "AAPL started\n",
            "['Apr', '17', '20248:15']\n",
            "2024-04-17 00:00:00\n",
            "Time element not found.\n",
            "['Mar', '15', '202410:27']\n",
            "['Mar', '18', '20242:25']\n",
            "['Mar', '21', '20248:15']\n",
            "Time element not found.\n",
            "['Mar', '19', '20248:45']\n",
            "['Mar', '21', '202412:48']\n",
            "['Mar', '22', '20248:44']\n",
            "['Mar', '21', '202410:30']\n",
            "AAPL finished\n",
            "BA started\n",
            "['Apr', '9', '202411:00']\n",
            "2024-04-09 00:00:00\n",
            "['Apr', '8', '20248:23']\n",
            "2024-04-08 00:00:00\n",
            "['Mar', '25', '20248:04']\n",
            "['Mar', '25', '20241:01']\n",
            "['Apr', '11', '20245:50']\n",
            "2024-04-11 00:00:00\n",
            "Time element not found.\n",
            "['Apr', '6', '20248:00']\n",
            "2024-04-06 00:00:00\n",
            "Time element not found.\n",
            "['Apr', '1', '20249:49']\n",
            "2024-04-01 00:00:00\n",
            "Time element not found.\n",
            "BA finished\n",
            "CAT started\n",
            "Time element not found.\n",
            "['Mar', '27', '20242:47']\n",
            "['Mar', '21', '20241:16']\n",
            "Time element not found.\n",
            "Time element not found.\n",
            "Time element not found.\n",
            "['Mar', '15', '20242:33']\n",
            "CAT finished\n",
            "CVX started\n",
            "['Mar', '18', '20241:44']\n",
            "['Mar', '28', '20246:05']\n",
            "['Apr', '2', '20249:46']\n",
            "2024-04-02 00:00:00\n",
            "['Apr', '10', '20245:53']\n",
            "2024-04-10 00:00:00\n",
            "['Apr', '6', '20248:59']\n",
            "2024-04-06 00:00:00\n",
            "['Apr', '4', '20249:03']\n",
            "2024-04-04 00:00:00\n",
            "['Apr', '4', '20246:56']\n",
            "2024-04-04 00:00:00\n",
            "['Apr', '10', '20248:08']\n",
            "2024-04-10 00:00:00\n",
            "Time element not found.\n",
            "['Mar', '20', '20242:13']\n",
            "CVX finished\n",
            "CSCO started\n",
            "['Apr', '18', '20248:31']\n",
            "2024-04-18 00:00:00\n",
            "['Apr', '9', '20245:52']\n",
            "2024-04-09 00:00:00\n",
            "['Apr', '3', '202411:58']\n",
            "2024-04-03 00:00:00\n",
            "Time element not found.\n",
            "['Mar', '22', '202412:07']\n",
            "['Apr', '8', '202411:38']\n",
            "2024-04-08 00:00:00\n",
            "['Mar', '15', '20244:06']\n",
            "['Apr', '18', '20243:00']\n",
            "2024-04-18 00:00:00\n",
            "['Apr', '15', '202411:56']\n",
            "2024-04-15 00:00:00\n",
            "['Apr', '17', '202412:28']\n",
            "2024-04-17 00:00:00\n",
            "CSCO finished\n",
            "KO started\n",
            "['Mar', '30', '20247:47']\n",
            "['Apr', '17', '20248:15']\n",
            "2024-04-17 00:00:00\n",
            "['Apr', '1', '202412:31']\n",
            "2024-04-01 00:00:00\n",
            "['Mar', '27', '20246:56']\n",
            "['Mar', '20', '20248:30']\n",
            "['Apr', '3', '202411:46']\n",
            "2024-04-03 00:00:00\n",
            "['Apr', '18', '20248:31']\n",
            "2024-04-18 00:00:00\n",
            "['Apr', '1', '20247:11']\n",
            "2024-04-01 00:00:00\n",
            "['Mar', '24', '20246:50']\n",
            "['Apr', '17', '202410:17']\n",
            "2024-04-17 00:00:00\n",
            "KO finished\n",
            "DOW started\n",
            "Time element not found.\n",
            "Time element not found.\n",
            "Time element not found.\n",
            "['Apr', '3', '20247:21']\n",
            "2024-04-03 00:00:00\n",
            "Time element not found.\n",
            "Time element not found.\n",
            "Time element not found.\n",
            "Time element not found.\n",
            "['Apr', '16', '202412:31']\n",
            "2024-04-16 00:00:00\n",
            "Time element not found.\n",
            "DOW finished\n",
            "GS started\n",
            "['Mar', '27', '20246:56']\n",
            "['Apr', '16', '20248:18']\n",
            "2024-04-16 00:00:00\n",
            "['Apr', '18', '20248:31']\n",
            "2024-04-18 00:00:00\n",
            "Time element not found.\n",
            "['Mar', '25', '20247:03']\n",
            "['Mar', '19', '20248:45']\n",
            "['Apr', '5', '20246:31']\n",
            "2024-04-05 00:00:00\n",
            "['Mar', '17', '202410:23']\n",
            "['Apr', '10', '20241:01']\n",
            "2024-04-10 00:00:00\n",
            "['Apr', '17', '202412:48']\n",
            "2024-04-17 00:00:00\n",
            "GS finished\n",
            "HD started\n",
            "['Mar', '28', '20248:40']\n",
            "Time element not found.\n",
            "['Mar', '27', '20246:56']\n",
            "Time element not found.\n",
            "['Apr', '2', '202412:58']\n",
            "2024-04-02 00:00:00\n",
            "['Apr', '17', '202410:17']\n",
            "2024-04-17 00:00:00\n",
            "['Mar', '28', '202411:09']\n",
            "['Mar', '19', '20247:10']\n",
            "['Apr', '4', '20247:22']\n",
            "2024-04-04 00:00:00\n",
            "['Apr', '2', '202410:38']\n",
            "2024-04-02 00:00:00\n",
            "HD finished\n",
            "HON started\n",
            "['Apr', '17', '20249:09']\n",
            "2024-04-17 00:00:00\n",
            "Time element not found.\n",
            "['Mar', '19', '20248:29']\n",
            "['Apr', '10', '20243:01']\n",
            "2024-04-10 00:00:00\n",
            "['Apr', '22', '20249:17']\n",
            "2024-04-22 00:00:00\n",
            "['Apr', '2', '20249:22']\n",
            "2024-04-02 00:00:00\n",
            "['Apr', '16', '20248:41']\n",
            "2024-04-16 00:00:00\n",
            "['Apr', '16', '20245:39']\n",
            "2024-04-16 00:00:00\n",
            "['Mar', '27', '20245:18']\n",
            "['Apr', '2', '20245:29']\n",
            "2024-04-02 00:00:00\n",
            "HON finished\n",
            "IBM started\n",
            "Time element not found.\n",
            "Time element not found.\n",
            "Time element not found.\n",
            "['Mar', '22', '202412:41']\n",
            "['Mar', '16', '20249:30']\n",
            "['Mar', '17', '20247:46']\n",
            "['Apr', '20', '20249:15']\n",
            "2024-04-20 00:00:00\n",
            "['Mar', '27', '20243:38']\n",
            "IBM finished\n",
            "INTC started\n",
            "['Apr', '3', '20242:36']\n",
            "2024-04-03 00:00:00\n",
            "Time element not found.\n",
            "['Mar', '20', '20248:37']\n",
            "Time element not found.\n",
            "['Apr', '2', '20245:32']\n",
            "2024-04-02 00:00:00\n",
            "['Mar', '20', '20245:00']\n",
            "['Apr', '3', '202411:18']\n",
            "2024-04-03 00:00:00\n",
            "['Mar', '17', '20249:16']\n",
            "['Apr', '12', '202412:39']\n",
            "2024-04-12 00:00:00\n",
            "['Apr', '10', '20246:59']\n",
            "2024-04-10 00:00:00\n",
            "INTC finished\n",
            "JNJ started\n",
            "JNJ finished\n",
            "JPM started\n",
            "['Apr', '12', '202412:01']\n",
            "2024-04-12 00:00:00\n",
            "Time element not found.\n",
            "['Mar', '20', '20248:30']\n",
            "['Apr', '8', '202411:13']\n",
            "2024-04-08 00:00:00\n",
            "['Mar', '15', '202411:57']\n",
            "['Mar', '19', '20247:02']\n",
            "['Mar', '18', '20242:25']\n",
            "['Apr', '15', '202412:38']\n",
            "2024-04-15 00:00:00\n",
            "['Apr', '15', '202411:01']\n",
            "2024-04-15 00:00:00\n",
            "['Apr', '9', '20248:00']\n",
            "2024-04-09 00:00:00\n",
            "JPM finished\n",
            "MCD started\n",
            "['Apr', '5', '20248:33']\n",
            "2024-04-05 00:00:00\n",
            "['Mar', '28', '202412:20']\n",
            "['Mar', '19', '202412:35']\n",
            "['Mar', '15', '202410:32']\n",
            "['Mar', '26', '202412:27']\n",
            "['Mar', '21', '20241:16']\n",
            "['Apr', '17', '20247:31']\n",
            "2024-04-17 00:00:00\n",
            "['Mar', '22', '202410:33']\n",
            "['Apr', '5', '202412:52']\n",
            "2024-04-05 00:00:00\n",
            "['Apr', '1', '202410:12']\n",
            "2024-04-01 00:00:00\n",
            "MCD finished\n",
            "MRK started\n",
            "['Mar', '26', '20245:11']\n",
            "['Feb', '1', '20246:31']\n",
            "['Apr', '19', '20247:33']\n",
            "2024-04-19 00:00:00\n",
            "['Jan', '28', '20248:00']\n",
            "['Mar', '27', '202412:22']\n",
            "['Mar', '27', '20248:18']\n",
            "MRK finished\n",
            "MSFT started\n",
            "['Apr', '17', '20248:15']\n",
            "2024-04-17 00:00:00\n",
            "['Mar', '30', '20249:00']\n",
            "Time element not found.\n",
            "['Apr', '12', '20249:17']\n",
            "2024-04-12 00:00:00\n",
            "Time element not found.\n",
            "['Mar', '21', '202410:30']\n",
            "Time element not found.\n",
            "['Apr', '1', '20245:50']\n",
            "2024-04-01 00:00:00\n",
            "['Apr', '19', '20248:38']\n",
            "2024-04-19 00:00:00\n",
            "Time element not found.\n",
            "MSFT finished\n",
            "NKE started\n",
            "['Apr', '12', '20241:31']\n",
            "2024-04-12 00:00:00\n",
            "['Apr', '18', '20244:12']\n",
            "2024-04-18 00:00:00\n",
            "Time element not found.\n",
            "['Apr', '11', '202412:23']\n",
            "2024-04-11 00:00:00\n",
            "['Mar', '22', '202412:14']\n",
            "['Mar', '22', '20248:44']\n",
            "['Apr', '11', '20245:50']\n",
            "2024-04-11 00:00:00\n",
            "['Mar', '19', '20249:12']\n",
            "['Apr', '12', '202412:53']\n",
            "2024-04-12 00:00:00\n",
            "['Mar', '22', '202412:49']\n",
            "NKE finished\n",
            "PG started\n",
            "['Apr', '19', '20247:03']\n",
            "2024-04-19 00:00:00\n",
            "['Apr', '18', '20244:22']\n",
            "2024-04-18 00:00:00\n",
            "['Jan', '23', '20247:01']\n",
            "['Apr', '3', '202411:58']\n",
            "2024-04-03 00:00:00\n",
            "PG finished\n",
            "CRM started\n",
            "Time element not found.\n",
            "Time element not found.\n",
            "['Apr', '15', '202411:56']\n",
            "2024-04-15 00:00:00\n",
            "['Mar', '27', '202412:50']\n",
            "['Apr', '22', '202410:13']\n",
            "2024-04-22 00:00:00\n",
            "['Mar', '28', '20246:00']\n",
            "['Mar', '29', '202410:28']\n",
            "['Apr', '15', '202412:16']\n",
            "2024-04-15 00:00:00\n",
            "['Apr', '1', '20244:57']\n",
            "2024-04-01 00:00:00\n",
            "['Apr', '2', '202412:08']\n",
            "2024-04-02 00:00:00\n",
            "CRM finished\n",
            "TRV started\n",
            "['Apr', '17', '20248:34']\n",
            "2024-04-17 00:00:00\n",
            "Time element not found.\n",
            "Time element not found.\n",
            "['Mar', '20', '20248:55']\n",
            "['Apr', '19', '20244:50']\n",
            "2024-04-19 00:00:00\n",
            "['Apr', '19', '202410:00']\n",
            "2024-04-19 00:00:00\n",
            "Time element not found.\n",
            "Time element not found.\n",
            "['Mar', '19', '20245:55']\n",
            "Time element not found.\n",
            "TRV finished\n",
            "UNH started\n",
            "['Apr', '16', '202412:39']\n",
            "2024-04-16 00:00:00\n",
            "['Apr', '2', '202411:04']\n",
            "2024-04-02 00:00:00\n",
            "['Mar', '21', '20241:16']\n",
            "Time element not found.\n",
            "Time element not found.\n",
            "['Mar', '16', '20247:00']\n",
            "Time element not found.\n",
            "['Apr', '3', '20247:21']\n",
            "2024-04-03 00:00:00\n",
            "['Mar', '18', '20244:31']\n",
            "Time element not found.\n",
            "UNH finished\n",
            "VZ started\n",
            "['Apr', '16', '202412:39']\n",
            "2024-04-16 00:00:00\n",
            "Time element not found.\n",
            "['Mar', '22', '202412:07']\n",
            "['Mar', '20', '202411:52']\n",
            "['Apr', '8', '202411:38']\n",
            "2024-04-08 00:00:00\n",
            "['Apr', '22', '202412:15']\n",
            "2024-04-22 00:00:00\n",
            "['Apr', '22', '20247:11']\n",
            "2024-04-22 00:00:00\n",
            "['Apr', '22', '20247:53']\n",
            "2024-04-22 00:00:00\n",
            "Time element not found.\n",
            "['Apr', '2', '202412:08']\n",
            "2024-04-02 00:00:00\n",
            "VZ finished\n",
            "V started\n",
            "Time element not found.\n",
            "Time element not found.\n",
            "Time element not found.\n",
            "Time element not found.\n",
            "Time element not found.\n",
            "['Mar', '21', '202410:30']\n",
            "['Mar', '26', '20246:53']\n",
            "Time element not found.\n",
            "['Mar', '26', '20249:42']\n",
            "Time element not found.\n",
            "V finished\n",
            "WMT started\n",
            "Time element not found.\n",
            "['Mar', '26', '20245:38']\n",
            "['Mar', '25', '20244:05']\n",
            "['Mar', '22', '20244:33']\n",
            "['Mar', '30', '202410:00']\n",
            "['Mar', '21', '20242:13']\n",
            "Time element not found.\n",
            "['Mar', '27', '20242:15']\n",
            "Time element not found.\n",
            "['Mar', '20', '20246:00']\n",
            "WMT finished\n",
            "DIS started\n",
            "['Mar', '19', '20247:02']\n",
            "Time element not found.\n",
            "Time element not found.\n",
            "['Mar', '26', '202412:04']\n",
            "['Mar', '28', '20246:20']\n",
            "['Apr', '1', '20248:38']\n",
            "2024-04-01 00:00:00\n",
            "['Mar', '25', '20248:35']\n",
            "Time element not found.\n",
            "['Apr', '4', '20246:44']\n",
            "2024-04-04 00:00:00\n",
            "['Mar', '27', '202410:40']\n",
            "DIS finished\n",
            "WBA started\n",
            "['Mar', '26', '20248:52']\n",
            "Time element not found.\n",
            "['Mar', '28', '20249:14']\n",
            "Time element not found.\n",
            "['Mar', '28', '20247:51']\n",
            "['Mar', '22', '20246:16']\n",
            "['Mar', '28', '20247:01']\n",
            "['Mar', '22', '20242:35']\n",
            "['Mar', '23', '202410:01']\n",
            "Time element not found.\n",
            "WBA finished\n"
          ]
        }
      ]
    },
    {
      "cell_type": "code",
      "source": [
        "print(data[10])"
      ],
      "metadata": {
        "colab": {
          "base_uri": "https://localhost:8080/"
        },
        "id": "K2Qj9tWf-KL_",
        "outputId": "f790bee8-f377-4d71-891a-9bb4ec17f673"
      },
      "execution_count": null,
      "outputs": [
        {
          "output_type": "stream",
          "name": "stdout",
          "text": [
            "['Stock market today: Live updatesCredit Cards\\nLoans\\nBanking\\nMortgages\\nInsurance\\nCredit Monitoring\\nPersonal Finance\\nSmall Business\\nTaxes\\nHelp for Low Credit Scores\\nInvesting\\nSELECT\\nAllCredit Cards\\nFind the Credit Card for You\\nBest Credit Cards\\nBest Rewards Credit Cards\\nBest Travel Credit Cards\\nBest 0% APR Credit Cards\\nBest Balance Transfer Credit Cards\\nBest Cash Back Credit Cards\\nBest Credit Card Welcome Bonuses\\nBest Credit Cards to Build Credit\\nSELECT\\nAllLoans\\nFind the Best Personal Loan for You\\nBest Personal Loans\\nBest Debt Consolidation Loans\\nBest Loans to Refinance Credit Card Debt\\nBest Loans with Fast Funding\\nBest Small Personal Loans\\nBest Large Personal Loans\\nBest Personal Loans to Apply Online\\nBest Student Loan Refinance\\nSELECT\\nAllBanking\\nFind the Savings Account for You\\nBest High Yield Savings Accounts\\nBest Big Bank Savings Accounts\\nBest Big Bank Checking Accounts\\nBest No Fee Checking Accounts\\nNo Overdraft Fee Checking Accounts\\nBest Checking Account Bonuses\\nBest Money Market Accounts\\nBest CDs\\nBest Credit Unions\\nSELECT\\nAllMortgages\\nBest Mortgages\\nBest Mortgages for Small Down Payment\\nBest Mortgages for No Down Payment\\nBest Mortgages with No Origination Fee\\nBest Mortgages for Average Credit Score\\nAdjustable Rate Mortgages\\nAffording a Mortgage\\nSELECT\\nAllInsurance\\nBest Life Insurance\\nBest Homeowners Insurance\\nBest Renters Insurance\\nBest Car Insurance\\nTravel Insurance\\nSELECT\\nAllCredit Monitoring\\nBest Credit Monitoring Services\\nBest Identity Theft Protection\\nHow to Boost Your Credit Score\\nCredit Repair Services\\nSELECT\\nAllPersonal Finance\\nBest Budgeting Apps\\nBest Expense Tracker Apps\\nBest Money Transfer Apps\\nBest Resale Apps and Sites\\nBuy Now Pay Later (BNPL) Apps\\nBest Debt Relief\\nSELECT\\nAllSmall Business\\nBest Small Business Savings Accounts\\nBest Small Business Checking Accounts\\nBest Credit Cards for Small Business\\nBest Small Business Loans\\nBest Tax Software for Small Business\\nSELECT\\nAllTaxes\\nFiling For Free\\nBest Tax Software\\nBest Tax Software for Small Businesses\\nTax Refunds\\nTax Brackets\\nTax Tips\\nTax By State\\nTax Payment Plans\\nSELECT\\nAllHelp for Low Credit Scores\\nBest Credit Cards for Bad Credit\\nBest Personal Loans for Bad Credit\\nBest Debt Consolidation Loans for Bad Credit\\nPersonal Loans if You Don\\'t Have Credit\\nBest Credit Cards for Building Credit\\nPersonal Loans for 580 Credit Score or Lower\\nPersonal Loans for 670 Credit Score or Lower\\nBest Mortgages for Bad Credit\\nBest Hardship Loans\\nHow to Boost Your Credit Score\\nSELECT\\nAllInvesting\\nBest IRA Accounts\\nBest Roth IRA Accounts\\nBest Investing Apps\\nBest Free Stock Trading Platforms\\nBest Robo-Advisors\\nIndex Funds\\nMutual Funds\\nETFs\\nBonds\\n\\nStocksclimbed Thursdayand added to the previous session\\'s gains, powering the major averages to new record closing levels.\\nTheDow Jones Industrial Averagejumped 269.24 points, or 0.68%, to close at 39,781.37. TheS&P 500advanced 0.32% to end at 5,241.53, while theNasdaq Compositeedged up 0.20% to finish at 16,401.84.\\n\"People have faith in the Fed right now, and that cuts are coming,\" said Jay Woods, chief global strategist at Freedom Capital Markets. \"We are in a good place, and the market believes in the smooth landing narrative. Whatever the Fed is saying continues to be the music to the ears of the market.\"\\nMicron Technologyjumped 14% onstrong earningsand notched itsbest day since December 2011. The news lifted the semiconductor sector, withNvidiaandMarvell Technologyadding more than 1% each.Taiwan Semiconductorand theVanEck Semiconductor ETF (SMH)surged about 2% each, whileBroadcomjumped 5.6%.\\nSome megacap tech stocks that led the recent rally also contributed to the session\\'s gains, withMicrosoftadding nearly 1%. Social media companyRedditsurged more than 48%in itsmarket debut.Applebucked the broad uptrend, slumping 4%after the Justice Departmentfiled an antitrust lawsuitagainst the iPhone maker.\\nIndustrial stocks also outperformed, boosting their respective S&P sector by 1%.Stanley Black & Decker,PentairandRockwell Automationwere among the notable gainers, jumping about 3% each.\\nThursday\\'s moves follow awinning dayon Wall Street that sent the three major indexes to new closing highs, with the S&P 500 breaking above 5,200 for the first time.\\nThose gains came as the Federal Reserve reiterated expectations forthree interest rate cutsthis year and kept borrowing costs unchanged at the conclusion of its two-day policy meeting.\\nWhile the central bank failed to elaborate on the timing of cuts, Fed Chairman Jerome Powell said during a press conference Wednesday that he expects rates to ease as long as the inflation data continues to trend lower.\\nDespite the recent enthusiasm, Kayne Anderson Rudnick\\'s Julie Biel cautions that the market may be getting overexcited about the prospect of three cuts this year.\\n\"We need to recognize that this isn\\'t like a slam dunk that we\\'re going to get three or four rate cuts,\" the portfolio manager said. \"There is enough dissent, and there still is a fair amount of spread beyond 2024 into 2025 of where rates are going to be.\"\\nAs of Thursday morning, traders are pricing in a 67% chance that the Fed begins cutting rates in June, according toCME Group\\'s FedWatch tool.\\nWall Street will monitor earnings reports fromFedExandNikeafter the market close.\\nCorrection: Fed Chair Jerome Powell spoke Wednesday. A previous version misstated the day of the week.\\nStocks finished higher on Thursday, with all the major averages notching fresh closing highs.\\nTheDow Jones Industrial Averagejumped 269.24 points, or 0.7%, to close at 39,781.37. TheS&P 500advanced 0.3% to end at 5,241.53, while theNasdaq Compositeedged up 0.2% to finish at 16,401.84.\\n— Samantha Subin\\nFive Belowslumped 15% on Thursday, putting the value retail stock on pace for its worst daily performance since March 2020/\\nThe drop in shares came after the company posted disappointing fourth-quarter earnings that fell short of Wall Street\\'s estimates on the top and bottom lines. Earnings came in a $3.65 per share, 13 cents short of the $3.78 expected by analysts polled by LSEG.\\nFive Below also offered light first-quarter and full-year revenue and EPS guidance.\\n— Samantha Subin\\nThere\\'s currently an \"extraordinary\" dichotomy between goods and services inflation, according to Rick Rieder, BlackRock\\'s global chief investment officer of fixed income.\\nServices inflation has stayed elevated because of the cultural dynamic and consumers\\' willingness to pay for experiences.\\n\"That\\'s part of why I think the Fed is right to say the last mile is hard; bringing down service inflation is very hard,\" he said on CNBC\\'sPower Lunchon Thursday afternoon. \"But if you look at the more cyclical component, i.e. goods inflation, it\\'s actually negative, so it\\'s time to start moving that rate down.\"\\nRieder added that in this market backdrop, he suggests investors look into buying high-quality fixed income as interest rates stay high. This includes assets such as investment grade credit, both European and domestically domiciled.\\n\"This is a pretty extraordinary point in time where not only can you buy growth in the equity market, you can build a lot of income in a portfolio and you don\\'t have to take a lot of risk,\" he added.\\n— Lisa Kailai Han\\nHigh-quality stocks, or those that have high free cash flow yield, are a \"most-have\" factor for 2024, according to Piper Sandler\\'s chief investment strategist Michael Kantrowitz.\\nIn a recent note, Kantrowitz suggested that investors look towards high-quality stocks that also have high momentum for opportunities, even as the three major stock indexes hit new records.\\n\"The current momentum trade has much stronger fundamentals than what we saw in 1999/2000, and we believe there is still room to run,\" he wrote.\\nThe strategist shared several stocks that fit this description, includingGapandCigna.\\nCNBC Pro subscribers can read the full storyhere.\\n— Lisa Kailai Han\\nBoeing CEO David Calhoun could be at risk of being ousted in a matter of months, according to Gordon Haskett head of event-driven research Don Bilson.\\n\"David Calhoun on January 13 celebrated his four-year anniversary as CEO of Boeing,\" Bilson said. \"Not only is the 66-year-old Calhoun not going to be given a chance to celebrate his five-year anniversary in 2025, but he is now at risk of not making it through the spring.\"\\nBilson pointed to a report from theWall Street Journal on Thursdaythat said airline executives are asking for meetings with Boeing\\'s board of directors, albeit without Calhoun among those present.\\n\"That, right there, is the kiss of death,\" he added. \"It certainly suggests that the carriers have lost confidence in Calhoun and run out of patience with their most important supplier.\"\\nBoeing stock was 0.1% higher on Thursday.\\n— Brian Evans\\nSemiconductors outperformed Thursday after the Federal Reserve maintained expectations for three rate cuts this year. TheVanEck Semiconductor ETF (SMH) climbed 3% during midday trading.\\nMajor advancers driving the ETF higher includeNvidia, which was up by more than 1%. The U.S.-listed shares ofTaiwan Semiconductor Manufacturing Co. rose 2.5%. Shares ofBroadcomadvanced 7.1%.\\nThose gains put the VanEck Semiconductor ETF on pace for winning week, up by 4.6% thus far.\\n— Sarah Min\\nReddit popped 38% on Thursday to open at $47 a share in itsNew York Stock Exchange debut.\\nThe social media company began trading under the ticket symbol \"RDDT\" after pricing its IPO at $34 a share on Wednesday. It marks the first major social media company to go public since Pinterest in 2019.\\n— Samantha Subin, Jonathan Vanian\\nThese are some of the stocks making the biggest midday moves:\\nSee the full list here.\\n— Alex Harring\\nAmid the ongoing AI craze, Raymond James thinks investors can find opportunities in other parts of the data center industry—namely companies that manufacture optical materials and other data center parts.\\nEncouraged by Nvidia\\'s unveiling of its new Blackwell graphics processing units earlier this week, the firm highlightedCoherent,LumentumandApplied Optoelectronicsas companies that could be additional beneficiaries of industry\\'s continued growth.\\nCoherent\\'s share price popped 5.3% on Thusday, while shares of Lumentum and Applied Optoelectronics rose 4.7% and 3.1% respectively. Optical materials maker Coherent, the firm\\'s top pick, has gained more than 45% so far this year.\\nFor more on these Nvidia derivate plays, readhere.\\n— Pia Singh\\nIndustrials stocks were among the best performers in the S&P 500 during Thursday\\'s session.\\nThe sector rose more than 1% during late-morning trading and was the top performer in the broad-based index thanks to 3% gains fromUber TechnologiesandStanley Black & Decker. Other notable gainers includedCaterpillar,Rockwell Automation,CumminsandBuilders FirstSource.\\nFinancial stocks also outperformed, boosting the sector 0.9%.Goldman Sachs,BlackstoneandBlackRockeach rallied 3%.PayPaland regional bank stocks such asComerica,Raymond JamesandCitizens Financialadded about 2% each.\\n— Samantha Subin\\nShares of pizza chain operatorPapa John\\'s Internationalfell 5.6% on Thursday afterShake Shacknamed Papa John\\'s CEO Rob Lynch as its chief on Thursday, replacing Randy Garutti, who helped found the burger chain in 2004.\\nLynch, who has served as Papa John\\'s CEO since 2019, will join Shake Shack in his new role on May 20. He will be in an advisory role at Papa John\\'s until April 30.\\nShake Shack\\'s shares were down 1.6%.\\n— Pia Singh\\nApple shares dropped more than 3% after the Justice Department sued the iPhone maker in alandmark antitrust case. That decline would be the tech giant\\'s biggest since Aug. 4, when it fell 4.8%.\\n— Fred Imbert, Gina Francolla\\nAppleshares slid 3% after the Department of Justice sued\\xa0Apple\\xa0on Thursday, saying that its iPhone ecosystem is a monopoly that drove its \"astronomical valuation\" at the expense of consumers, developers and rival phone makers.\\nFederal antitrust enforcement and 16 attorneys general also say that Apple\\'s anti-competitive practices extend beyond the iPhone and Apple Watch businesses, citing Apple\\'s advertising, browser, FaceTime and news offerings.\\n\"Each step in Apple\\'s course of conduct built and reinforced the moat around its smartphone monopoly,\" the complaint filed in the District of New Jersey said.\\n— Kif Leswing, Rohan Goswami\\nExisting home sales posted an unexpected surge in February despite another big jump in prices, theNational Association of Realtors reportedThursday.\\nCompleted sales of single-family homes, townhouses, condos and co-ops jumped 9.5% from January, countering expectations for a 1.3% decline in the Dow Jones consensus. It was the largest monthly increase since February 2023.\\nThe gains came even as the median sales price rose 5.7% from a year ago to $384,500. Declining interest rates helped soften the blow, with a 30-year fixed-rate mortgage averaging 6.74%, down 0.14 percentage point on the month but up the same level from a year ago.\\n— Jeff Cox\\nManufacturing activity in the U.S. hit a 22-month high in March, according to theS&P Global Flash U.S. Compositereading released Thursday.\\nThe index came in at 52.5 for the month, up 0.3 point from February and the highest going back to mid-2022. Economists surveyed by Dow Jones had been looking for 51.8 on a gauge that measures the percent difference between companies reporting expansion versus contraction.\\nOn the services side, the flash PMI was 51.7, a decline of 0.6 point from a month ago and just below the 51.8 estimate.\\n— Jeff Cox\\nMicron Technologysurged more than 16% before the bell and headed for its best day since December 2011 after posting stronger-than-expected quarterly resultsdriven by a boom in demand for artificial intelligence.\\nThe memory chipmaker posted earnings of 42 cents per share, far surpassing the 25 cent loss expected by analysts polled by LSEG. Micron reported revenues of $5.82 billion, ahead of the $5.35 billion expected.\\n\"We believe Micron is one of the biggest beneficiaries in the semiconductor industry of the multi-year opportunity enabled by AI,\" Micron CEO Sanjay Mehrotra said in a release.\\nAlongside the top-and-bottom line beat, Micron Technology offered rosy revenue guidance for its fiscal third quarter.\\n— Samantha Subin\\nStocks opened higher on Thursday as Wall Street looked to continue its rally to record highs.\\nTheS&P 500gained 0.5%, while theNasdaq Compositejumped 0.9% TheDow Jones Industrialadded 128 points, or 0.35%.\\n— Samantha Subin\\nHere are some of the names making moves before the bell:\\nTo see more stocks making premarket moves,read the full story here.\\n— Michelle Fox\\nManufacturing activity in the Philadelphia area showed unexpected growth in March, according to a survey from the regional Federal Reserve released Thursday.\\nThe Philadelphia Fed\\'sManufacturing Business Outlook Surveyshowed a reading of 3.2, representing the percentage difference between companies reporting expansion against contraction. That was down 2 points from February but ahead of the Dow Jones consensus for a -5 reading.\\nIt was the second straight month for a positive number and only the fifth expansionary level since May 2022.\\nWhile most firms reported ongoing inflation pressures, the prices paid index registered its lowest reading since May 2020, down 13 points to 3.7. Employment remained negative at -9.6 while new orders showed growth for the first time since October.\\n—Jeff Cox\\nInitial filings for unemployment insurance changed little last week, indicating that companies are still reluctant to let go of workers.\\nJobless claims totaled 210,000 for the week ended March 16, a decrease of 2,000 from the previous period\\'s upwardly revised level, theLabor Department reportedThursday. Economists surveyed by Dow Jones had been looking for 213,000.\\nContinuing claims, which run a week behind, edged up to 1.807 million, an increase of 4,000 and slightly higher than the 1.79 million FactSet estimate.\\n— Jeff Cox\\nThe Bank of Englandmaintained interest ratesat the 5.25% level on Thursday, but suggested that cuts could come in the near future if inflation falls quicker than expected.\\nThe Monetary Policy Committee voted 8-1 to leave rates at their current level. One member voted for a 25 basis point cut to 5%.\\n— Elliot Smith, Samantha Subin\\nFive Belowshed nearly 12% before the bell after posting quarterly results that fell short of analyst expectations on both the top and bottom lines.\\nThe value retailer reported earnings of $3.65 per share on $1.34 billion in revenue. Analysts polled by LSEG had anticipated earnings of $3.78 per share and revenues totaling $1.35 billion.\\nThe company also offered light revenue and EPS guidance for the first quarter and full year.\\n— Samantha Subin\\nThe Federal Reserve is unlikely to cut rates thrice this year, Matt Higgins, CEO and co-founder of RSE Ventures, said Thursday on CNBC\\'s \"Street Signs Asia,\" in a view at odds with Fed signals and market expectations.\\nNo rate cuts were \"definitely on the table,\" with one cut most likely later in the year, he added.\\nThe Federal Reserve signaled Wednesday that it would cut interest rate three times in 2024 while holding them steady at its latest meeting.\\n\"If unemployment does not start to pick up, and you don\\'t see some more downward pressure on core inflation, I\\'m not sure there are going to be three rate cuts in the second half of this year,\" Higgins said.\\n- Dylan Butts\\nSpot goldhit over $2,200 per ounceThursday, notching a new high after the U.S. Federal Reservereaffirmed plans for three rate cuts this year. And there\\'s more roomfor bullion to rally.\\nPrices could rise to $2,300 per ounce in the second half of 2024, especially against the backdrop of expectations that the U.S. Federal Reserve could cut rates in the second half of 2024, Aakash Doshi, Citi\\'s North America head of commodities research, told CNBC.\\nState Street\\'s APAC Gold Strategist Robin Tsui wrote in a March 21 note that he anticipates gold could hit $2,400 per ounce once the Fed starts to pivot.\\n—Lee Ying Shan\\nJapan\\'sNikkei 225index hit a new record on Wednesday, rising as much as 40,642.89 and surpassing its all-time closing high of 40,109.23.\\nThe rally was powered by consumer cyclicals and industrial stocks, and also came on the back an improved business sentiment in Japan, as well as better exports data for February.\\nThe top gainer on the index was semiconductor firmSumco Corpwhich gained 5.42%, followed by financial technology firmRakuten Group, which was up 3.65%.\\n— Lim Hui Jie\\nNew Zealand slipped into a technical recession last year as the country\\'s gross domestic productcontracted by 0.1%in the fourth quarter of 2023 compared to the quarter before.\\nThis was a surprise contraction as economists polled by Reuters had expected 0.1% growth.\\nThe contraction followed a 0.3% fall in GDP in the quarter ending September 2023, which meant that the country has experienced two successive quarters of contraction — the commonly accepted definition of a technical recession.\\nOn a year-on-year basis, GDP in New Zealand expanded 0.6%, slowing from the 1.3% growth recorded in the third quarter.\\n— Lim Hui Jie\\nTheRussell 2000popped nearly 2% on Wednesday for its best day in more than a month – and Fundstrat Global Advisors\\' Tom Lee thinks the small-cap benchmark has even higher to go.\\nOn a relative value basis, small caps are back to where they were in 1999, which was \"a launch point for a 12-year outperformance period,\" Lee, head of research at Fundstrat, said on CNBC\\'s \"Last Call.\"\\n\"I think that means with the Fed doing a dovish pause and CEOs getting more confident, that means M&A and IPOs and people looking at other sectors – I do think the Russell can rise 50% this year,\" he said. Indeed, the Federal Reserve held rates steady and kept to its forecast of three rate cuts in 2024 at the conclusion of its March meeting on Wednesday, lifting the major averages to record closes.\\nAn array of factors could boost the Russell 2000 this year, he added, noting that companies that earn money in the small-cap index are trading around 11 times earnings, \"a huge PE story, along with a price-to-book story.\" The benchmark also has a big biotech weight, and the financial companies within the Russell 2000 are likely to benefit once the Fed begins cutting rates, he said.\\n\"I think the Russell 2000 represents… the best of things that happen when the Fed starts cutting,\" Lee said.\\n-Darla Mercado\\nRedditpricedits initial public offering at $34 per share.\\nThat number is at the top of the expected range of between $31 and $34. It values the social media company at around $6.5 billion.\\nReddit will make its public market debut Thursday under the ticker \"RDDT.\"\\n— Alex Harring, Leslie Picker, Jonathan Vanian\\nIt\\'s not just institutional and individual investors pushing stock prices higher. Last week was huge for corporate buybacks of stock too, Bank of America equity and quantitative strategists including Savita Subramanian said in a note out Tuesday.\\nBuyback trends are \"hitting multi-year highs,\" BofA noted, with those conducted by the bank\\'s own corporate clients reaching the third highest weekly level ever in data going back to 2010.\\nThe pace of repurchases is also \"tracking above the typical seasonal levels at this time\" of year for a second straight week, the strategists wrote. So far in 2024, buybacks as a percentage of the entireS&P 500market capitalization have totaled 0.34% versus the 2023 high at the same time of year at 0.29%.\\nBuybacks over the past 52 weeks as a percentage of total market value are the highest since August 2020, during the first Covid pandemic summer, according to BofA.\\n— Scott Schnipper\\nWith more than half of the trading week in the rearview mirror, the three major indexes are on track for gains.\\nTheNasdaq Compositehas led the three higher this week, adding 2.5%. TheDowandS&P 500were each up about 2.1%.\\n— Alex Harring\\nThe big technology rally may be on \"borrowed time,\" according to UBS.\\nStrategist Jonathan Golub said the advances toApple,Amazon,Alphabet,Meta,MicrosoftandNvidiacould be short-lived. While valuations are not an issue in this case, he said an end to these major gains for the \"Big 6\" stocks is becoming a question of when, not if.\\n\"With earnings momentum rapidly decelerating for the Big 6, and the broader market trend improving, continued outperformance of these stocks—and the narrowness of market returns that it implies—becomes increasingly difficult,\" Golub wrote in a note to clients Wednesday. \"While upward revisions are currently supporting these companies, the deceleration in future profits cannot be ignored.\"\\nGolub\\'s call comes amid a year of strength for the sector, with the technology-heavyNasdaq Compositeup more than 9%.\\n— Alex Harring\\nThese are some of the stocks posting notable moves in extended trading:\\nSee the full list here.\\n— Alex Harring\\nStock futures traded modestly higher shortly after 6 p.m. ET.\\nDow futures added 0.1%. S&P 500 and Nasdaq 100 futures rose 0.2% and 0.3%, respectively.\\n— Alex Harring\\nGot a confidential news tip? We want to hear from you.\\nSign up for free newsletters and get more CNBC delivered to your inbox\\nGet this delivered to your inbox, and more info about our products and services.\\n©2024CNBC LLC. All Rights Reserved.A Division of NBCUniversal\\nData is a real-time snapshot *Data is delayed at least 15 minutes.\\n      Global Business and Financial News, Stock Quotes, and Market Data\\n      and Analysis.\\nData also provided by\\n', '2024-04-01', 'https://www.cnbc.com/2024/03/20/stock-market-today-live-updates.html', 'MMM']\n"
          ]
        }
      ]
    },
    {
      "cell_type": "code",
      "source": [
        "import csv\n",
        "def write_to_csv(data, filename):\n",
        "    with open(filename, 'w', newline='') as csvfile:\n",
        "        fieldnames = ['Content', 'Date', 'URL', 'Ticker']\n",
        "        writer = csv.DictWriter(csvfile, fieldnames=fieldnames)\n",
        "\n",
        "        writer.writeheader()\n",
        "        for sublist in data:\n",
        "            writer.writerow({'Content': sublist[0], 'Date': sublist[1], 'URL': sublist[2], 'Ticker': sublist[3]})"
      ],
      "metadata": {
        "id": "cYcvnify3SGb"
      },
      "execution_count": null,
      "outputs": []
    },
    {
      "cell_type": "code",
      "source": [
        "write_to_csv(data, 'googlenews.csv')"
      ],
      "metadata": {
        "id": "kzwcDeDt2X_F"
      },
      "execution_count": null,
      "outputs": []
    }
  ]
}