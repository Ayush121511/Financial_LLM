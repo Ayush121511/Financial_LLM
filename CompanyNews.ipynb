{
  "nbformat": 4,
  "nbformat_minor": 0,
  "metadata": {
    "colab": {
      "provenance": []
    },
    "kernelspec": {
      "name": "python3",
      "display_name": "Python 3"
    },
    "language_info": {
      "name": "python"
    }
  },
  "cells": [
    {
      "cell_type": "code",
      "source": [
        "import requests\n",
        "import csv\n",
        "\n",
        "# Tickers dictionary\n",
        "tickers = {\n",
        "    \"MMM\": \"3M Company\",\n",
        "    \"AXP\": \"American Express\",\n",
        "    \"AMGN\": \"Amgen\",\n",
        "    \"AAPL\": \"Apple Inc\",\n",
        "    \"BA\": \"Boeing\",\n",
        "    \"CAT\": \"Caterpillar Inc\",\n",
        "    \"CVX\": \"Chevron\",\n",
        "    \"CSCO\": \"Cisco\",\n",
        "    \"KO\": \"The Coca-Cola Company\",\n",
        "    \"DOW\": \"Dow Inc\",\n",
        "    \"GS\": \"Goldman Sachs\",\n",
        "    \"HD\": \"The Home Depot\",\n",
        "    \"HON\": \"Honeywell\",\n",
        "    \"IBM\": \"IBM\",\n",
        "    \"INTC\": \"Intel\",\n",
        "    \"JNJ\": \"Johnson & Johnson\",\n",
        "    \"JPM\": \"JPMorgan Chase\",\n",
        "    \"MCD\": \"McDonald's Corp\",\n",
        "    \"MRK\": \"Merck & Co. Inc\",\n",
        "    \"MSFT\": \"Microsoft\",\n",
        "    \"NKE\": \"Nike\",\n",
        "    \"PG\": \"Procter & Gamble\",\n",
        "    \"CRM\": \"Salesforce\",\n",
        "    \"TRV\": \"The Travelers Companies Inc\",\n",
        "    \"UNH\": \"UnitedHealth Group Inc\",\n",
        "    \"VZ\": \"Verizon\",\n",
        "    \"V\": \"Visa Inc\",\n",
        "    \"WMT\": \"Walmart\",\n",
        "    \"DIS\": \"Walt Disney\",\n",
        "    \"WBA\": \"Walgreens Boots\"\n",
        "}\n",
        "\n",
        "# API endpoint and key\n",
        "api_url = \"https://newsapi.org/v2/everything\"\n",
        "api_key = \"581d249c75cc4a8ea6b89f675dd6dbc0\"\n",
        "\n",
        "# Define CSV file name\n",
        "csv_file = \"news.csv\"\n",
        "\n",
        "# Open the CSV file once\n",
        "with open(csv_file, mode='w', newline='', encoding='utf-8') as file:\n",
        "    writer = csv.writer(file)\n",
        "\n",
        "    # Write the header\n",
        "    writer.writerow([\"Source\", \"Author\", \"Title\", \"Description\", \"URL\", \"Published At\", \"Content\", \"Company\"])\n",
        "\n",
        "    # Iterate over tickers\n",
        "    for ticker, company in tickers.items():\n",
        "        # Parameters for the API call\n",
        "        params = {\n",
        "            \"q\": company,\n",
        "            \"from\": \"2024-10-18\",\n",
        "            \"sortBy\": \"publishedAt\",\n",
        "            \"apiKey\": api_key\n",
        "        }\n",
        "\n",
        "        # Fetch data from the API\n",
        "        response = requests.get(api_url, params=params)\n",
        "\n",
        "        # Check if the request was successful\n",
        "        if response.status_code == 200:\n",
        "            data = response.json()\n",
        "            articles = data.get(\"articles\", [])\n",
        "\n",
        "            # Write article data\n",
        "            for article in articles:\n",
        "                writer.writerow([\n",
        "                    article.get(\"source\", {}).get(\"name\", \"\"),\n",
        "                    article.get(\"author\", \"\"),\n",
        "                    article.get(\"title\", \"\"),\n",
        "                    article.get(\"description\", \"\"),\n",
        "                    article.get(\"url\", \"\"),\n",
        "                    article.get(\"publishedAt\", \"\"),\n",
        "                    article.get(\"content\", \"\"),\n",
        "                    company  # Add the company name\n",
        "                ])\n",
        "        else:\n",
        "            print(f\"Failed to fetch data for {company}. HTTP Status code: {response.status_code}\")\n",
        "\n",
        "print(f\"Data successfully saved to {csv_file}\")\n"
      ],
      "metadata": {
        "colab": {
          "base_uri": "https://localhost:8080/"
        },
        "id": "qbz_l8LX26BS",
        "outputId": "dcb975b2-e7d2-4038-f66f-b04a908393ca"
      },
      "execution_count": null,
      "outputs": [
        {
          "output_type": "stream",
          "name": "stdout",
          "text": [
            "Data successfully saved to news.csv\n"
          ]
        }
      ]
    }
  ]
}